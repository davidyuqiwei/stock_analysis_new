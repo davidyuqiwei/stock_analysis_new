{
 "cells": [
  {
   "cell_type": "code",
   "execution_count": 4,
   "metadata": {},
   "outputs": [],
   "source": [
    "from scripts_stock.cfg.set_dir import *\n",
    "import pandas as pd\n",
    "\n",
    "project_dir = ProjectDir()"
   ]
  },
  {
   "cell_type": "code",
   "execution_count": 5,
   "metadata": {},
   "outputs": [
    {
     "data": {
      "text/plain": [
       "('sina_owner_shebao406',\n",
       " 'https://vip.stock.finance.sina.com.cn/corp/view/vCI_HoldStockState.php?stockid=600867&stockholderid=70010406')"
      ]
     },
     "execution_count": 5,
     "metadata": {},
     "output_type": "execute_result"
    }
   ],
   "source": [
    "# from scripts_stock.cfg.owner_url_list_sina import DataURLSina\n",
    "\n",
    "# data_url_sina = DataURLSina()\n",
    "# data_url_sina.owner_shebao406()"
   ]
  },
  {
   "cell_type": "code",
   "execution_count": 6,
   "metadata": {},
   "outputs": [
    {
     "name": "stdout",
     "output_type": "stream",
     "text": [
      "  stock_name  hold_num  hold_ratio stock_type update_date          owner_name\n",
      "0       通化东宝  36391629        1.83      流通A股,  2024-03-31  sina_owner_abudabi\n",
      "1       通化东宝  31836912        1.61      流通A股,  2024-07-23  sina_owner_abudabi\n",
      "2       通化东宝  31870412        1.61      流通A股,  2024-07-10  sina_owner_abudabi\n",
      "3       通化东宝  31914212        1.61      流通A股,  2024-07-08  sina_owner_abudabi\n",
      "4       通化东宝  31914812        1.61      流通A股,  2024-06-30  sina_owner_abudabi\n"
     ]
    }
   ],
   "source": [
    "df1 = pd.read_csv(os.path.join(project_dir.download_data_dir,\"owner_sina\",\"sina_owner_abudabi.csv\"),encoding=\"utf-8-sig\")\n",
    "print(df1.head(5))"
   ]
  },
  {
   "cell_type": "code",
   "execution_count": 7,
   "metadata": {},
   "outputs": [
    {
     "name": "stdout",
     "output_type": "stream",
     "text": [
      "Empty DataFrame\n",
      "Columns: [stock_name, 2024-03-31, 2024-06-30, diff]\n",
      "Index: []\n",
      "update_date stock_name  2024-03-31  2024-06-30       diff\n",
      "1                 杭氧股份  21782224.0  13939032.0 -7843192.0\n",
      "0                 宏发股份  12878194.0   7111079.0 -5767115.0\n",
      "5                 海容冷链   7164644.0   5546844.0 -1617800.0\n"
     ]
    }
   ],
   "source": [
    "df1 = pd.read_csv(os.path.join(project_dir.download_data_dir,\"owner_sina\",\"sina_owner_abudabi.csv\"),encoding=\"utf-8-sig\")\n",
    "df1 = pd.read_csv(os.path.join(project_dir.download_data_dir,\"owner_sina\",\"sina_owner_shebao406.csv\"),encoding=\"utf-8-sig\")\n",
    "\n",
    "\n",
    "quater_end1 = \"2024-03-31\"\n",
    "quater_end2 = \"2024-06-30\"\n",
    "\n",
    "def get_increase_data(df1,quater_end1,quater_end2):\n",
    "    df1 = df1[df1[\"update_date\"]>=quater_end1].drop_duplicates()\n",
    "    #print(df1)\n",
    "\n",
    "    # 统计 'value' 列中每个唯一值的数量\n",
    "    value_counts = df1['stock_name'].value_counts()\n",
    "    # 筛选出计数大于等于3的唯一值\n",
    "    unique_values_with_more_than_two = value_counts[value_counts >= 2].index.tolist()\n",
    "    # 使用这些唯一值来过滤原始 DataFrame\n",
    "    filtered_df = df1[df1['stock_name'].isin(unique_values_with_more_than_two)]\n",
    "\n",
    "    last_two_dates = filtered_df.groupby('stock_name')['update_date'].apply(lambda x: x.sort_values().tail(3)).reset_index(name='update_date')\n",
    "    #print(last_two_dates[last_two_dates[\"stock_name\"]==\"通化东宝\"])\n",
    "\n",
    "    merged_df = df1.merge(last_two_dates,on=['stock_name', 'update_date'], how='inner')\n",
    "\n",
    "    #print(merged_df)\n",
    "\n",
    "    result = merged_df.pivot(index='stock_name', columns='update_date', values='hold_num').reset_index()\n",
    "    result[\"diff\"] =  result[quater_end2]- result[quater_end1]\n",
    "    result_increase = result[result[\"diff\"]>0]\n",
    "    print(result_increase[[\"stock_name\",quater_end1,quater_end2,\"diff\"]].sort_values(\"diff\",ascending=False))\n",
    "\n",
    "    result_increase = result[result[\"diff\"]<0]\n",
    "    print(result_increase[[\"stock_name\",quater_end1,quater_end2,\"diff\"]].sort_values(\"diff\"))\n",
    "\n",
    "\n",
    "get_increase_data(df1,quater_end1,quater_end2)"
   ]
  },
  {
   "cell_type": "code",
   "execution_count": 21,
   "metadata": {},
   "outputs": [
    {
     "data": {
      "text/plain": [
       "RangeIndex(start=0, stop=20, step=1)"
      ]
     },
     "execution_count": 21,
     "metadata": {},
     "output_type": "execute_result"
    }
   ],
   "source": [
    "result.index"
   ]
  },
  {
   "cell_type": "code",
   "execution_count": 1,
   "metadata": {},
   "outputs": [
    {
     "name": "stdout",
     "output_type": "stream",
     "text": [
      "    stock_name  hold_num          \n",
      "                     min       max\n",
      "0        TCL中环  22013860  23082610\n",
      "1     •NÐË¹É·Ý   2643600   2643600\n",
      "2         万华化学  19347676  22089357\n",
      "3         万孚生物   1778646   4749947\n",
      "4         万马股份   3078400   3078400\n",
      "..         ...       ...       ...\n",
      "199       驰宏锌锗   4866616   4866616\n",
      "200       鸿路钢构   3894291   4047691\n",
      "201       鼎汉技术   4268225   4268225\n",
      "202       龙净环保   2083103   2083103\n",
      "203       龙源技术   2762605   2762605\n",
      "\n",
      "[204 rows x 3 columns]\n"
     ]
    }
   ],
   "source": [
    "\n",
    "project_dir = ProjectDir()\n",
    "df1 = pd.read_csv(os.path.join(project_dir.download_data_dir,\"owner_sina\",\"sina_owner_abudabi.csv\"),encoding=\"utf-8-sig\")\n",
    "df2 = df1.groupby(\"stock_name\").agg({'hold_num': [ 'min', 'max']})\n",
    "print(df2.reset_index())\n"
   ]
  }
 ],
 "metadata": {
  "kernelspec": {
   "display_name": "base",
   "language": "python",
   "name": "python3"
  },
  "language_info": {
   "codemirror_mode": {
    "name": "ipython",
    "version": 3
   },
   "file_extension": ".py",
   "mimetype": "text/x-python",
   "name": "python",
   "nbconvert_exporter": "python",
   "pygments_lexer": "ipython3",
   "version": "3.7.5"
  }
 },
 "nbformat": 4,
 "nbformat_minor": 2
}
